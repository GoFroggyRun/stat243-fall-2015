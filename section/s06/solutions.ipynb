{
 "cells": [
  {
   "cell_type": "markdown",
   "metadata": {},
   "source": [
    "# solutions to problems"
   ]
  },
  {
   "cell_type": "markdown",
   "metadata": {},
   "source": [
    "# problem 1\n",
    "\n",
    "The key here (ha) is to remember that dictionaries are mutable. So, in the function below, counter is modified."
   ]
  },
  {
   "cell_type": "code",
   "execution_count": 2,
   "metadata": {
    "collapsed": true
   },
   "outputs": [],
   "source": [
    "def table(a_list):\n",
    "    counter = {}\n",
    "    for value in a_list:\n",
    "        add_occurrence(value, counter)\n",
    "        \n",
    "    return counter"
   ]
  },
  {
   "cell_type": "code",
   "execution_count": 3,
   "metadata": {
    "collapsed": true
   },
   "outputs": [],
   "source": [
    "def add_occurrence(value, counter):\n",
    "    if value not in counter:\n",
    "        counter[value] = 0\n",
    "    counter[value] += 1"
   ]
  },
  {
   "cell_type": "code",
   "execution_count": 11,
   "metadata": {
    "collapsed": false
   },
   "outputs": [
    {
     "data": {
      "text/plain": [
       "[2, 2, 2, 1]"
      ]
     },
     "execution_count": 11,
     "metadata": {},
     "output_type": "execute_result"
    }
   ],
   "source": [
    "tmp = [1, 2, 3, 1, 2, 3, 10]\n",
    "result = table(tmp)\n",
    "result.keys()\n",
    "\n",
    "result.values()\n"
   ]
  },
  {
   "cell_type": "markdown",
   "metadata": {},
   "source": [
    "# problem 2"
   ]
  },
  {
   "cell_type": "code",
   "execution_count": 22,
   "metadata": {
    "collapsed": true
   },
   "outputs": [],
   "source": [
    "from math import exp, log\n",
    "import numpy as np\n",
    "from scipy.special import gammaln\n",
    "\n",
    "def log_choose(n, k):\n",
    "    return gammaln(n + 1) - gammaln(k + 1) - gammaln(n - k + 1)"
   ]
  },
  {
   "cell_type": "markdown",
   "metadata": {},
   "source": [
    "## using a for loop\n",
    "\n",
    "The solution is pretty much a copy of Chris's solution in python:"
   ]
  },
  {
   "cell_type": "code",
   "execution_count": 23,
   "metadata": {
    "collapsed": true
   },
   "outputs": [],
   "source": [
    "def log_likelihood(k, n, p, phi):\n",
    "    klogk = 0 if k == 0 else k * log(k)\n",
    "    nmklognmk = 0 if n - k == 0 else (n - k)*log(n - k)\n",
    "    \n",
    "    return exp(log_choose(n, k) +\n",
    "               (1 - phi)*(klogk + nmklognmk - n*log(n)) +\n",
    "               (k*phi*log(p)) +\n",
    "               (n-k)*phi*log(1-p))\n",
    "\n",
    "def norm_const_slow(n, p, phi):\n",
    "    total = 0.0\n",
    "    for k in xrange(0, n+1):\n",
    "        total += log_likelihood(k, n, p, phi)\n",
    "        \n",
    "    return total"
   ]
  },
  {
   "cell_type": "markdown",
   "metadata": {},
   "source": [
    "# using vectorization\n",
    "\n",
    "Remember to vectorize the choose function:"
   ]
  },
  {
   "cell_type": "code",
   "execution_count": 24,
   "metadata": {
    "collapsed": true
   },
   "outputs": [],
   "source": [
    "v_log_choose = np.vectorize(log_choose)"
   ]
  },
  {
   "cell_type": "code",
   "execution_count": 25,
   "metadata": {
    "collapsed": true
   },
   "outputs": [],
   "source": [
    "def norm_const_fast(n, p, phi):\n",
    "    all_k = np.array( range(0, n+1) )\n",
    "\n",
    "    temp1 = all_k*np.log(all_k)\n",
    "    temp1[0] = 0\n",
    "    \n",
    "    temp2 = (n - all_k)*np.log(n - all_k)\n",
    "    temp2[n] = 0\n",
    "    \n",
    "    all_choose = v_log_choose(n, all_k)\n",
    "    \n",
    "    return sum(np.exp(all_choose +\n",
    "                      (1-phi)*(temp1 + temp2 - n*np.log(n)) +\n",
    "                      (all_k * phi) * np.log(p) +\n",
    "                      (n - all_k) * (phi * np.log(1-p))\n",
    "                     )\n",
    "              )"
   ]
  },
  {
   "cell_type": "markdown",
   "metadata": {},
   "source": [
    "# timing"
   ]
  },
  {
   "cell_type": "code",
   "execution_count": 26,
   "metadata": {
    "collapsed": false
   },
   "outputs": [
    {
     "name": "stdout",
     "output_type": "stream",
     "text": [
      "100 loops, best of 3: 5.42 ms per loop\n"
     ]
    }
   ],
   "source": [
    "%timeit -n 100 norm_const_slow(1000, 0.3, 0.5)"
   ]
  },
  {
   "cell_type": "code",
   "execution_count": 27,
   "metadata": {
    "collapsed": false
   },
   "outputs": [
    {
     "name": "stdout",
     "output_type": "stream",
     "text": [
      "100 loops, best of 3: 3.87 ms per loop\n"
     ]
    },
    {
     "name": "stderr",
     "output_type": "stream",
     "text": [
      "/Users/hjp/.virtualenvs/py2/lib/python2.7/site-packages/ipykernel/__main__.py:4: RuntimeWarning: divide by zero encountered in log\n",
      "/Users/hjp/.virtualenvs/py2/lib/python2.7/site-packages/ipykernel/__main__.py:4: RuntimeWarning: invalid value encountered in multiply\n",
      "/Users/hjp/.virtualenvs/py2/lib/python2.7/site-packages/ipykernel/__main__.py:7: RuntimeWarning: divide by zero encountered in log\n",
      "/Users/hjp/.virtualenvs/py2/lib/python2.7/site-packages/ipykernel/__main__.py:7: RuntimeWarning: invalid value encountered in multiply\n"
     ]
    }
   ],
   "source": [
    "%timeit -n 100 norm_const_fast(1000, 0.3, 0.5)"
   ]
  },
  {
   "cell_type": "code",
   "execution_count": 28,
   "metadata": {
    "collapsed": false
   },
   "outputs": [
    {
     "data": {
      "text/plain": [
       "1.4146589755263277"
      ]
     },
     "execution_count": 28,
     "metadata": {},
     "output_type": "execute_result"
    }
   ],
   "source": [
    "norm_const_slow(1000, 0.3, 0.5)"
   ]
  },
  {
   "cell_type": "code",
   "execution_count": 29,
   "metadata": {
    "collapsed": false
   },
   "outputs": [
    {
     "name": "stderr",
     "output_type": "stream",
     "text": [
      "/Users/hjp/.virtualenvs/py2/lib/python2.7/site-packages/ipykernel/__main__.py:4: RuntimeWarning: divide by zero encountered in log\n",
      "/Users/hjp/.virtualenvs/py2/lib/python2.7/site-packages/ipykernel/__main__.py:4: RuntimeWarning: invalid value encountered in multiply\n",
      "/Users/hjp/.virtualenvs/py2/lib/python2.7/site-packages/ipykernel/__main__.py:7: RuntimeWarning: divide by zero encountered in log\n",
      "/Users/hjp/.virtualenvs/py2/lib/python2.7/site-packages/ipykernel/__main__.py:7: RuntimeWarning: invalid value encountered in multiply\n"
     ]
    },
    {
     "data": {
      "text/plain": [
       "1.4146589755263277"
      ]
     },
     "execution_count": 29,
     "metadata": {},
     "output_type": "execute_result"
    }
   ],
   "source": [
    "norm_const_fast(1000, 0.3, 0.5)"
   ]
  },
  {
   "cell_type": "code",
   "execution_count": null,
   "metadata": {
    "collapsed": true
   },
   "outputs": [],
   "source": []
  }
 ],
 "metadata": {
  "kernelspec": {
   "display_name": "Python 2",
   "language": "python",
   "name": "python2"
  },
  "language_info": {
   "codemirror_mode": {
    "name": "ipython",
    "version": 2
   },
   "file_extension": ".py",
   "mimetype": "text/x-python",
   "name": "python",
   "nbconvert_exporter": "python",
   "pygments_lexer": "ipython2",
   "version": "2.7.10"
  }
 },
 "nbformat": 4,
 "nbformat_minor": 0
}
